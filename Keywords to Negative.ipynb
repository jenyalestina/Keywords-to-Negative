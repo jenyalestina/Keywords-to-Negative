{
 "cells": [
  {
   "cell_type": "code",
   "execution_count": 3,
   "metadata": {},
   "outputs": [],
   "source": [
    "import pandas as pd\n",
    "import numpy as np"
   ]
  },
  {
   "cell_type": "markdown",
   "metadata": {},
   "source": [
    "need to read a csv or xlsx or something to get real data but I'll deal with that later\n",
    "save it as variable arr"
   ]
  },
  {
   "cell_type": "code",
   "execution_count": 4,
   "metadata": {},
   "outputs": [],
   "source": [
    "## sample data to test program\n",
    "data = [['rownum less than equal to 100 in orale sql',0],\n",
    "        ['decode performance oracle',0],\n",
    "        ['im having trouble connecting micros oracle to network',1],\n",
    "        ['hands on machine learning',0],\n",
    "        ['machine learning in rust',1]]\n",
    "arr = pd.DataFrame(data, columns = ['Search Term', 'Conversions'])"
   ]
  },
  {
   "cell_type": "markdown",
   "metadata": {},
   "source": [
    "creates the Row object to hold data"
   ]
  },
  {
   "cell_type": "code",
   "execution_count": 5,
   "metadata": {},
   "outputs": [],
   "source": [
    "class Row(object):\n",
    "    search = \"\"\n",
    "    convs = 0\n",
    "    \n",
    "    def __init__(self, search, convs):\n",
    "        self.search = search\n",
    "        self.convs = convs"
   ]
  },
  {
   "cell_type": "code",
   "execution_count": 13,
   "metadata": {},
   "outputs": [],
   "source": [
    "wordsAssd = []\n",
    "for index, row in arr.iterrows():\n",
    "    term = (row['Search Term'])\n",
    "    words = term.split()\n",
    "    convs = (row['Conversions'])\n",
    "    for w in words:\n",
    "        r = Row(w, convs)\n",
    "        wordsAssd.append(r)\n",
    "    wordsAssd.sort(key=lambda x: x.search, reverse=False)"
   ]
  },
  {
   "cell_type": "code",
   "execution_count": null,
   "metadata": {},
   "outputs": [],
   "source": []
  }
 ],
 "metadata": {
  "kernelspec": {
   "display_name": "Python 3",
   "language": "python",
   "name": "python3"
  },
  "language_info": {
   "codemirror_mode": {
    "name": "ipython",
    "version": 3
   },
   "file_extension": ".py",
   "mimetype": "text/x-python",
   "name": "python",
   "nbconvert_exporter": "python",
   "pygments_lexer": "ipython3",
   "version": "3.7.1"
  }
 },
 "nbformat": 4,
 "nbformat_minor": 2
}
